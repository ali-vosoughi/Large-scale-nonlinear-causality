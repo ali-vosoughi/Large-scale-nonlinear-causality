{
  "cells": [
    {
      "cell_type": "markdown",
      "metadata": {
        "id": "view-in-github",
        "colab_type": "text"
      },
      "source": [
        "<a href=\"https://colab.research.google.com/github/ali-vosoughi/Large-scale-nonlinear-causality/blob/main/Demo_lsNGC.ipynb\" target=\"_parent\"><img src=\"https://colab.research.google.com/assets/colab-badge.svg\" alt=\"Open In Colab\"/></a>"
      ]
    },
    {
      "cell_type": "markdown",
      "metadata": {
        "id": "nLhq_irZ77qg"
      },
      "source": [
        "# Demo for lsNGC"
      ]
    },
    {
      "cell_type": "markdown",
      "metadata": {
        "id": "SG1k61Y677qh"
      },
      "source": [
        "## The following is a demo of a small toy example of a synthetic network."
      ]
    },
    {
      "cell_type": "markdown",
      "metadata": {
        "id": "uiNkAHOe77qi"
      },
      "source": [
        "For now, lets assume that we have a causality algorithm, which we want to use for topology inference. We name it \"$granger$\", and we put it inside the following function:\n",
        "\n",
        "X: input timeseries data of order $T\\times N$\n",
        "\n",
        "N=X.shape[0] number of variable $N$, and \n",
        "\n",
        "T=X.shape[1] number of time samples $T$\n",
        "\n",
        "Adj: Adjacency matrix of the multivariate input timeseries data"
      ]
    },
    {
      "cell_type": "code",
      "source": [
        "!git clone https://github.com/Large-scale-causality-inference/Large-scale-nonlinear-causality.git"
      ],
      "metadata": {
        "colab": {
          "base_uri": "https://localhost:8080/"
        },
        "id": "wQPCrNzu7-bj",
        "outputId": "dc5c8ecd-7469-456a-e43b-b94510f5daf8"
      },
      "execution_count": 6,
      "outputs": [
        {
          "output_type": "stream",
          "name": "stdout",
          "text": [
            "Cloning into 'Large-scale-nonlinear-causality'...\n",
            "remote: Enumerating objects: 243, done.\u001b[K\n",
            "remote: Counting objects: 100% (24/24), done.\u001b[K\n",
            "remote: Compressing objects: 100% (22/22), done.\u001b[K\n",
            "remote: Total 243 (delta 10), reused 0 (delta 0), pack-reused 219\u001b[K\n",
            "Receiving objects: 100% (243/243), 1.15 MiB | 1.83 MiB/s, done.\n",
            "Resolving deltas: 100% (128/128), done.\n"
          ]
        }
      ]
    },
    {
      "cell_type": "code",
      "source": [
        "%cd Large-scale-nonlinear-causality/"
      ],
      "metadata": {
        "colab": {
          "base_uri": "https://localhost:8080/"
        },
        "id": "Fr6lWYYp8h5z",
        "outputId": "06412327-6830-4782-ce9c-644bf54d1460"
      },
      "execution_count": 2,
      "outputs": [
        {
          "output_type": "stream",
          "name": "stdout",
          "text": [
            "[Errno 2] No such file or directory: 'Large-scale-nonlinear-causality/'\n",
            "/content\n"
          ]
        }
      ]
    },
    {
      "cell_type": "code",
      "source": [
        "!pwd"
      ],
      "metadata": {
        "colab": {
          "base_uri": "https://localhost:8080/"
        },
        "id": "LCrfcUgm8peM",
        "outputId": "4ce54898-565e-43f0-bf64-e4524a5c3674"
      },
      "execution_count": 3,
      "outputs": [
        {
          "output_type": "stream",
          "name": "stdout",
          "text": [
            "/content\n"
          ]
        }
      ]
    },
    {
      "cell_type": "code",
      "execution_count": 4,
      "metadata": {
        "id": "4dluyXic77qi",
        "outputId": "9e4c1d06-77eb-473a-c94f-5937906bd962",
        "colab": {
          "base_uri": "https://localhost:8080/",
          "height": 383
        }
      },
      "outputs": [
        {
          "output_type": "error",
          "ename": "ModuleNotFoundError",
          "evalue": "ignored",
          "traceback": [
            "\u001b[0;31m---------------------------------------------------------------------------\u001b[0m",
            "\u001b[0;31mModuleNotFoundError\u001b[0m                       Traceback (most recent call last)",
            "\u001b[0;32m<ipython-input-4-5e24d99db1b5>\u001b[0m in \u001b[0;36m<module>\u001b[0;34m()\u001b[0m\n\u001b[1;32m      2\u001b[0m \u001b[0;32mimport\u001b[0m \u001b[0mscipy\u001b[0m\u001b[0;34m.\u001b[0m\u001b[0mio\u001b[0m \u001b[0;32mas\u001b[0m \u001b[0msio\u001b[0m\u001b[0;34m\u001b[0m\u001b[0;34m\u001b[0m\u001b[0m\n\u001b[1;32m      3\u001b[0m \u001b[0;32mfrom\u001b[0m \u001b[0mscipy\u001b[0m \u001b[0;32mimport\u001b[0m \u001b[0mstats\u001b[0m\u001b[0;34m\u001b[0m\u001b[0;34m\u001b[0m\u001b[0m\n\u001b[0;32m----> 4\u001b[0;31m \u001b[0;32mfrom\u001b[0m \u001b[0mutils\u001b[0m \u001b[0;32mimport\u001b[0m \u001b[0mlsNGC\u001b[0m \u001b[0;32mas\u001b[0m \u001b[0mgranger\u001b[0m\u001b[0;34m\u001b[0m\u001b[0;34m\u001b[0m\u001b[0m\n\u001b[0m\u001b[1;32m      5\u001b[0m \u001b[0;32mimport\u001b[0m \u001b[0mmatplotlib\u001b[0m\u001b[0;34m.\u001b[0m\u001b[0mpyplot\u001b[0m \u001b[0;32mas\u001b[0m \u001b[0mplt\u001b[0m\u001b[0;34m\u001b[0m\u001b[0;34m\u001b[0m\u001b[0m\n\u001b[1;32m      6\u001b[0m \u001b[0;32mfrom\u001b[0m \u001b[0mscipy\u001b[0m\u001b[0;34m.\u001b[0m\u001b[0mio\u001b[0m \u001b[0;32mimport\u001b[0m \u001b[0mloadmat\u001b[0m\u001b[0;34m\u001b[0m\u001b[0;34m\u001b[0m\u001b[0m\n",
            "\u001b[0;31mModuleNotFoundError\u001b[0m: No module named 'utils'",
            "",
            "\u001b[0;31m---------------------------------------------------------------------------\u001b[0;32m\nNOTE: If your import is failing due to a missing package, you can\nmanually install dependencies using either !pip or !apt.\n\nTo view examples of installing some common dependencies, click the\n\"Open Examples\" button below.\n\u001b[0;31m---------------------------------------------------------------------------\u001b[0m\n"
          ],
          "errorDetails": {
            "actions": [
              {
                "action": "open_url",
                "actionText": "Open Examples",
                "url": "/notebooks/snippets/importing_libraries.ipynb"
              }
            ]
          }
        }
      ],
      "source": [
        "import numpy as np\n",
        "import scipy.io as sio\n",
        "from scipy import stats\n",
        "from utils import lsNGC as granger\n",
        "import matplotlib.pyplot as plt\n",
        "from scipy.io import loadmat\n",
        "import networkx as nx\n",
        "from recovery_performance import recovery_performance"
      ]
    },
    {
      "cell_type": "markdown",
      "metadata": {
        "id": "SQIVk3jq77qj"
      },
      "source": [
        "# Synthetic benchmark, from our Nature paper"
      ]
    },
    {
      "cell_type": "code",
      "execution_count": null,
      "metadata": {
        "id": "XXm_qvfZ77qj"
      },
      "outputs": [],
      "source": [
        "benchmark_dataset=['logistic3']\n",
        "benchmark_titles={'logistic3':'3-Fan In'}\n",
        "benchmark_TS_set=np.array([50,100,200,500])\n",
        "bechmark_algorithms=[]\n",
        "\n",
        "algorithms_title={}\n",
        "bechmark_algorithms_title=[algorithms_title[i] for i in bechmark_algorithms]\n",
        "\n",
        "benchmark_label=dict()\n",
        "AUC=dict()"
      ]
    },
    {
      "cell_type": "markdown",
      "metadata": {
        "id": "mexXRUbl77qk"
      },
      "source": [
        "## Logistic 3 dataset, according to our Nature paper\n",
        "- Has 50 networks of lengths up to 1000. \n",
        "- It has 3 nodes"
      ]
    },
    {
      "cell_type": "markdown",
      "metadata": {
        "id": "l0S-GvfO77qk"
      },
      "source": [
        "- Novel algorithm"
      ]
    },
    {
      "cell_type": "code",
      "execution_count": null,
      "metadata": {
        "id": "dQbjd01k77qk"
      },
      "outputs": [],
      "source": [
        "in_data_name='datasets/7SYNTHETICS/logistic_3.mat'\n",
        "\n",
        "\n",
        "for TS in benchmark_TS_set:\n",
        "    benchmark_label['logistic3']= [loadmat(in_data_name)['Adj'] for i in range(50)]\n",
        "    ts_logistic=[loadmat(in_data_name)['pt_N'][i,:,-TS:] for i in range(50)]\n",
        "    Adj_lsgc=[granger(ts_logistic[i], k_f=2, k_g=2, ar_order=1, normalize=1)[0] for i in range(50)]\n",
        "    AUC['granger_logistic3_'+str(TS)]=recovery_performance(Adj_lsgc,benchmark_label['logistic3'])\n",
        "    print(\"logistic3, auc lsgc for TS=\"+str(TS)+\":\", AUC['granger_logistic3_'+str(TS)].mean(),\n",
        "          \"+\",AUC['granger_logistic3_'+str(TS)].std())"
      ]
    }
  ],
  "metadata": {
    "kernelspec": {
      "display_name": "Python 3",
      "language": "python",
      "name": "python3"
    },
    "language_info": {
      "codemirror_mode": {
        "name": "ipython",
        "version": 3
      },
      "file_extension": ".py",
      "mimetype": "text/x-python",
      "name": "python",
      "nbconvert_exporter": "python",
      "pygments_lexer": "ipython3",
      "version": "3.7.6"
    },
    "colab": {
      "name": "Demo_lsNGC.ipynb",
      "provenance": [],
      "include_colab_link": true
    }
  },
  "nbformat": 4,
  "nbformat_minor": 0
}